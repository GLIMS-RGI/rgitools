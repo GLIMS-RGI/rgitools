{
 "cells": [
  {
   "cell_type": "markdown",
   "id": "98d58eb5",
   "metadata": {},
   "source": [
    "# this notebook creates the `rgitools/docs/dems_subregions.rst` file for rgitools docs and copies the new barplot and csv files to their corresponding directories"
   ]
  },
  {
   "cell_type": "markdown",
   "id": "14960c59",
   "metadata": {},
   "source": [
    "**NOTE:** \n",
    "- **there is a `README.rst` in this notebook's directory which gives instructions on the preceding steps necessary to execute this notebook**\n",
    "- **this notebook has to be executed in the directory `rgitools/notebooks/dem_statistics` in order to handle repository intern paths correctly and to import the `statistics_paths.py` script which is located in the same directory.**\n",
    "- **the paths `statistics_paths.py` have to be adapted to your local system's paths and have to remain unchanged during the execution of the `post_all_dems.py` and the `dem_post_quality_per_region.py`**\n",
    "\n",
    "- **The (old) barplot and csv files in the directories `rgitools/docs/_static/images/` and `rgitools/docs/_static/images/` that might be outdated and unsued after the run of this script have to be deleted manually.**\n"
   ]
  },
  {
   "cell_type": "code",
   "execution_count": null,
   "id": "2821159e",
   "metadata": {},
   "outputs": [],
   "source": [
    "import os\n",
    "import os.path as path\n",
    "import shutil\n",
    "import geopandas as gpd\n",
    "import numpy as np\n",
    "from oggm import cfg\n",
    "\n",
    "\n",
    "import statistics_paths\n",
    "cfg.initialize()"
   ]
  },
  {
   "cell_type": "markdown",
   "id": "4c29ccbc",
   "metadata": {},
   "source": [
    "This notebook can be run as a script with parameters using [papermill](https://github.com/nteract/papermill), but it is not necessary nor intended, as the parameters are taken from the `statistics_paths.py` script. The following cell contains the parameters you can choose from:"
   ]
  },
  {
   "cell_type": "code",
   "execution_count": null,
   "id": "40c0d86e",
   "metadata": {
    "tags": [
     "parameters"
    ]
   },
   "outputs": [],
   "source": [
    "# path to the postprocessing output directory which contains the barplots and csv-tables within its subdirectories\n",
    "post = None\n",
    "# suffix of the filenames\n",
    "sfx = None"
   ]
  },
  {
   "cell_type": "code",
   "execution_count": null,
   "id": "c30f3c4f",
   "metadata": {},
   "outputs": [],
   "source": [
    "if not post:\n",
    "    post = statistics_paths.post\n",
    "if not sfx:\n",
    "    sfx = statistics_paths.sfx"
   ]
  },
  {
   "cell_type": "markdown",
   "id": "fd369b59",
   "metadata": {},
   "source": [
    "## copy barplot images and csv files"
   ]
  },
  {
   "cell_type": "code",
   "execution_count": null,
   "id": "95eed8f9",
   "metadata": {},
   "outputs": [],
   "source": [
    "barplot_source_dir = path.join(post, 'out/images')\n",
    "csv_source_dir = path.join(post, 'out/tables')\n",
    "\n",
    "barplot_target_dir = path.abspath(path.join(os.getcwd(), '../../docs/_static/images'))\n",
    "csv_target_dir = path.abspath(path.join(os.getcwd(), '../../docs/_static/tables'))\n",
    "\n",
    "# you can simply delete the folder 'images' and 'tables' before copying the file, so you don't have to worry about outdated files\n",
    "os.makedirs(barplot_target_dir, exist_ok=True)\n",
    "os.makedirs(csv_target_dir, exist_ok=True)"
   ]
  },
  {
   "cell_type": "code",
   "execution_count": null,
   "id": "4eea869b",
   "metadata": {},
   "outputs": [],
   "source": [
    "for filename in os.listdir(barplot_source_dir):\n",
    "    shutil.copy(path.join(barplot_source_dir, filename), barplot_target_dir)\n",
    "print('copied all barplots from {} to {}'.format(barplot_source_dir, barplot_target_dir))\n",
    "for filename in os.listdir(csv_source_dir):\n",
    "    shutil.copy(path.join(csv_source_dir, filename), csv_target_dir)\n",
    "print('copied all csv files from {} to {}'.format(csv_source_dir, csv_target_dir))"
   ]
  },
  {
   "cell_type": "markdown",
   "id": "925a42b6",
   "metadata": {},
   "source": [
    "## create `dems_subregions.rst` rst file"
   ]
  },
  {
   "cell_type": "code",
   "execution_count": null,
   "id": "8afc3a62",
   "metadata": {},
   "outputs": [],
   "source": [
    "# path to the file whose content is created in this script and will be overwritten in the end\n",
    "subregion_rts_filepath = path.abspath(path.join(os.getcwd(), '../../docs/dems_subregions.rst'))\n",
    "\n",
    "# rgi region & subregion file - depending on the RGI version (6.0, 6.x ..) chosen for the RGI Topo Dataset creation\n",
    "# this folder- and filenames might be adapted\n",
    "regions = gpd.read_file(os.path.join(cfg.PATHS['rgi_dir'], 'RGIV62',\n",
    "                                     '00_rgi62_regions',\n",
    "                                     '00_rgi62_O1Regions.shp'))\n"
   ]
  },
  {
   "cell_type": "code",
   "execution_count": null,
   "id": "4a388fa0",
   "metadata": {},
   "outputs": [],
   "source": [
    "# static strings\n",
    "page_header = '.. _subregions:\\n\\nDetails for RGI subregions\\n==========================\\n\\n'\n",
    "table_info = ('Summary of all the RGI subregions. First column shows total\\n    '\n",
    "              'number of glaciers per RGI subregion. The consecutive columns specify the\\n    '\n",
    "              'availability of particular DEMs for a RGI subregion in percent of the total\\n    '\n",
    "              'glaciers per subregion. Values are not rounded but truncated so 99% could\\n    '\n",
    "              'be just one missing glacier. Only DEMs with less than 10% missing values\\n    '\n",
    "              'are considered.')\n",
    "# path strings\n",
    "img_dir = '/_static/images/'\n",
    "csv_dir = '_static/tables/'              "
   ]
  },
  {
   "cell_type": "code",
   "execution_count": null,
   "id": "220aaa2b",
   "metadata": {},
   "outputs": [],
   "source": [
    "string_list = [page_header]\n",
    "    \n",
    "for reg in np.arange(1,20):\n",
    "    # region string\n",
    "    rs = []\n",
    "    \n",
    "    regstr = '{:02.0f}'.format(reg)\n",
    "    regname = regions.loc[regions['RGI_CODE'].astype('int') == reg, 'FULL_NAME'].iloc[0]\n",
    "    barplot_name = 'barplot_rgi{}.png'.format(regstr + sfx)\n",
    "    csv_name = 'dem_rgi{}.csv'.format(regstr + sfx)\n",
    "    \n",
    "    # region header\n",
    "    rs.append('.. _rgi{}:\\n\\n{} - {}\\n'.format(regstr, regstr, regname))\n",
    "    \n",
    "    # header_underscore with the same length as region number and name\n",
    "    rs.append(('-' * len('{} - {}'.format(regstr, regname))) + '\\n\\n')\n",
    "    \n",
    "    # barplot\n",
    "    rs.append('.. image:: {}\\n    :width: 100%\\n\\n'.format(path.join(img_dir, barplot_name)))\n",
    "    \n",
    "    # table\n",
    "    rs.append('.. csv-table:: {}\\n    :file: {}\\n\\n\\n'.format(table_info, path.join(csv_dir, csv_name)))\n",
    "    \n",
    "    string_list.append(''.join(rs))\n",
    "    \n",
    "# remove empty lines at file ending\n",
    "string_list[-1] = string_list[-1][:-3]"
   ]
  },
  {
   "cell_type": "markdown",
   "id": "cc297d56",
   "metadata": {},
   "source": [
    "## The following cell will *overwrite(!)* the `dems_subregions.rst` file"
   ]
  },
  {
   "cell_type": "code",
   "execution_count": null,
   "id": "5956aa09",
   "metadata": {},
   "outputs": [],
   "source": [
    "# write the .rst file\n",
    "subreg_rst_file = open(subregion_rts_filepath, 'w')\n",
    "subreg_rst_file.write(''.join(string_list))\n",
    "subreg_rst_file.close()\n",
    "print('wrote new \\'rgitools/docs/dems_subregions.rst\\' file\\ncheck the new file for correctness')"
   ]
  }
 ],
 "metadata": {
  "celltoolbar": "Tags",
  "kernelspec": {
   "display_name": "Python 3 (ipykernel)",
   "language": "python",
   "name": "python3"
  },
  "language_info": {
   "codemirror_mode": {
    "name": "ipython",
    "version": 3
   },
   "file_extension": ".py",
   "mimetype": "text/x-python",
   "name": "python",
   "nbconvert_exporter": "python",
   "pygments_lexer": "ipython3",
   "version": "3.9.10"
  }
 },
 "nbformat": 4,
 "nbformat_minor": 5
}
